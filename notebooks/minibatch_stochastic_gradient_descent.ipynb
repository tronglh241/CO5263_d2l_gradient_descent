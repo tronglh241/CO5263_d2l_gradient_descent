{
 "cells": [
  {
   "cell_type": "markdown",
   "id": "309cd8a2-96e3-41aa-8e2e-19db846d3cfc",
   "metadata": {},
   "source": [
    "# Minibatch Stochastic Gradient Descent"
   ]
  },
  {
   "cell_type": "code",
   "execution_count": null,
   "id": "462c5e57-966a-43b7-bd5a-9758081390fe",
   "metadata": {},
   "outputs": [],
   "source": []
  },
  {
   "cell_type": "markdown",
   "id": "39c5374c-173b-45b0-8528-a4211cefcff8",
   "metadata": {},
   "source": [
    "## Vectorization and Caches"
   ]
  },
  {
   "cell_type": "code",
   "execution_count": null,
   "id": "502f54e8-d696-42e4-bab6-a8b5aa1a32b2",
   "metadata": {},
   "outputs": [],
   "source": []
  },
  {
   "cell_type": "markdown",
   "id": "d3843f26-b110-4f3b-a324-32eb903d710a",
   "metadata": {},
   "source": [
    "## Minibatches"
   ]
  },
  {
   "cell_type": "code",
   "execution_count": null,
   "id": "ca51db8c-7f3b-4ca1-8a10-419d99dfe483",
   "metadata": {},
   "outputs": [],
   "source": []
  },
  {
   "cell_type": "markdown",
   "id": "a76883d6-a469-4153-91d7-931be6f011fd",
   "metadata": {},
   "source": [
    "## Reading the Dataset"
   ]
  },
  {
   "cell_type": "code",
   "execution_count": null,
   "id": "393d525e-e0e8-4d44-96de-5be729da4db6",
   "metadata": {},
   "outputs": [],
   "source": []
  },
  {
   "cell_type": "markdown",
   "id": "47ac24e8-5c1d-4ecb-bd87-a888caabd119",
   "metadata": {},
   "source": [
    "## Implementation from Scratch"
   ]
  },
  {
   "cell_type": "code",
   "execution_count": null,
   "id": "7b1c54e9-817f-4b0a-aaab-16cbd82c6f42",
   "metadata": {},
   "outputs": [],
   "source": []
  },
  {
   "cell_type": "markdown",
   "id": "523c5892-76e4-4f5c-b72c-bff4fc4ec739",
   "metadata": {},
   "source": [
    "## Concise Implementation"
   ]
  },
  {
   "cell_type": "code",
   "execution_count": null,
   "id": "17a8af60-a69d-40dc-9f2e-5583557c622e",
   "metadata": {},
   "outputs": [],
   "source": []
  },
  {
   "cell_type": "markdown",
   "id": "565256bc-8212-46d3-b07c-b4b31fa3f62e",
   "metadata": {},
   "source": [
    "## Excercises"
   ]
  },
  {
   "cell_type": "code",
   "execution_count": null,
   "id": "3fadbff6-3a56-4bb7-af84-59a5cf724da1",
   "metadata": {},
   "outputs": [],
   "source": []
  }
 ],
 "metadata": {
  "kernelspec": {
   "display_name": "Python 3 (ipykernel)",
   "language": "python",
   "name": "python3"
  },
  "language_info": {
   "codemirror_mode": {
    "name": "ipython",
    "version": 3
   },
   "file_extension": ".py",
   "mimetype": "text/x-python",
   "name": "python",
   "nbconvert_exporter": "python",
   "pygments_lexer": "ipython3",
   "version": "3.10.16"
  }
 },
 "nbformat": 4,
 "nbformat_minor": 5
}
